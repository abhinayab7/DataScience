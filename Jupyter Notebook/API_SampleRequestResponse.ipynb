{
 "cells": [
  {
   "cell_type": "code",
   "execution_count": 19,
   "id": "51dbaed9",
   "metadata": {},
   "outputs": [],
   "source": [
    "import requests"
   ]
  },
  {
   "cell_type": "code",
   "execution_count": 20,
   "id": "00bf1e1a",
   "metadata": {},
   "outputs": [],
   "source": [
    "url = \"http://garuda.pythonanywhere.com/words\""
   ]
  },
  {
   "cell_type": "code",
   "execution_count": 21,
   "id": "afb1a357",
   "metadata": {},
   "outputs": [],
   "source": [
    "payload = {\"word\":\"Abhinay\",\"meaning\":\"DS aspirant\"}"
   ]
  },
  {
   "cell_type": "code",
   "execution_count": 22,
   "id": "20b4bfa7",
   "metadata": {},
   "outputs": [],
   "source": [
    "response = requests.post(url, data=payload)"
   ]
  },
  {
   "cell_type": "code",
   "execution_count": 23,
   "id": "76efc71a",
   "metadata": {},
   "outputs": [
    {
     "data": {
      "text/plain": [
       "{'Status': 'Word saved'}"
      ]
     },
     "execution_count": 23,
     "metadata": {},
     "output_type": "execute_result"
    }
   ],
   "source": [
    "response.json()"
   ]
  },
  {
   "cell_type": "code",
   "execution_count": 24,
   "id": "11cfc97c",
   "metadata": {},
   "outputs": [
    {
     "data": {
      "text/plain": [
       "{'meaning': 'DS aspirant'}"
      ]
     },
     "execution_count": 24,
     "metadata": {},
     "output_type": "execute_result"
    }
   ],
   "source": [
    "requests.get(url+\"/\"+\"Abhinay\").json()"
   ]
  },
  {
   "cell_type": "code",
   "execution_count": null,
   "id": "d1cced34",
   "metadata": {},
   "outputs": [],
   "source": []
  }
 ],
 "metadata": {
  "kernelspec": {
   "display_name": "Python 3 (ipykernel)",
   "language": "python",
   "name": "python3"
  },
  "language_info": {
   "codemirror_mode": {
    "name": "ipython",
    "version": 3
   },
   "file_extension": ".py",
   "mimetype": "text/x-python",
   "name": "python",
   "nbconvert_exporter": "python",
   "pygments_lexer": "ipython3",
   "version": "3.9.7"
  }
 },
 "nbformat": 4,
 "nbformat_minor": 5
}

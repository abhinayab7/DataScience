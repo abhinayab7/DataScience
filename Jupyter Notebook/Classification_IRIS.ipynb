{
 "cells": [
  {
   "cell_type": "code",
   "execution_count": null,
   "id": "15e3c09b",
   "metadata": {},
   "outputs": [],
   "source": [
    "import pandas as pd, time"
   ]
  },
  {
   "cell_type": "code",
   "execution_count": null,
   "id": "9cf5a662",
   "metadata": {},
   "outputs": [],
   "source": [
    "df = pd.read_csv(\"http://garuda.pythonanywhere.com/static/iris.csv\")"
   ]
  },
  {
   "cell_type": "code",
   "execution_count": null,
   "id": "b9450b03",
   "metadata": {},
   "outputs": [],
   "source": [
    "df.shape"
   ]
  },
  {
   "cell_type": "code",
   "execution_count": null,
   "id": "dccc715b",
   "metadata": {},
   "outputs": [],
   "source": [
    "df.head(5)"
   ]
  },
  {
   "cell_type": "code",
   "execution_count": null,
   "id": "87cf1652",
   "metadata": {},
   "outputs": [],
   "source": [
    "#df.corr().Outcome"
   ]
  },
  {
   "cell_type": "code",
   "execution_count": null,
   "id": "32b585bf",
   "metadata": {},
   "outputs": [],
   "source": [
    "y=df.Species"
   ]
  },
  {
   "cell_type": "code",
   "execution_count": null,
   "id": "dd2f8168",
   "metadata": {
    "scrolled": true
   },
   "outputs": [],
   "source": [
    "x=df.drop(columns=['Species','Id'])"
   ]
  },
  {
   "cell_type": "code",
   "execution_count": null,
   "id": "563ee564",
   "metadata": {},
   "outputs": [],
   "source": [
    "df.tail()"
   ]
  },
  {
   "cell_type": "code",
   "execution_count": null,
   "id": "6976c1b9",
   "metadata": {},
   "outputs": [],
   "source": [
    "x.to_csv(\"irir_Mod.csv\")"
   ]
  },
  {
   "cell_type": "code",
   "execution_count": null,
   "id": "3b99c0fc",
   "metadata": {},
   "outputs": [],
   "source": [
    "from sklearn.linear_model import LogisticRegression"
   ]
  },
  {
   "cell_type": "code",
   "execution_count": null,
   "id": "883febff",
   "metadata": {},
   "outputs": [],
   "source": [
    "model = LogisticRegression()"
   ]
  },
  {
   "cell_type": "code",
   "execution_count": null,
   "id": "4b001893",
   "metadata": {},
   "outputs": [],
   "source": [
    "model"
   ]
  },
  {
   "cell_type": "code",
   "execution_count": null,
   "id": "06b0278e",
   "metadata": {
    "scrolled": false
   },
   "outputs": [],
   "source": [
    "model.fit(x,y)"
   ]
  },
  {
   "cell_type": "code",
   "execution_count": null,
   "id": "b3bfad64",
   "metadata": {},
   "outputs": [],
   "source": [
    "model.score(x,y)"
   ]
  },
  {
   "cell_type": "code",
   "execution_count": null,
   "id": "916b1318",
   "metadata": {},
   "outputs": [],
   "source": [
    "af = df.groupby('Species')['Id'].count()"
   ]
  },
  {
   "cell_type": "code",
   "execution_count": null,
   "id": "456f5a26",
   "metadata": {},
   "outputs": [],
   "source": [
    "af"
   ]
  },
  {
   "cell_type": "code",
   "execution_count": null,
   "id": "a5d4fb4a",
   "metadata": {},
   "outputs": [],
   "source": [
    "#Actual\n",
    "model.predict([[5.1,3.5,1.4,0.2],[6.7,3.0,5.2,2.3]])"
   ]
  },
  {
   "cell_type": "code",
   "execution_count": null,
   "id": "aa4e998e",
   "metadata": {},
   "outputs": [],
   "source": [
    "#Random\n",
    "model.predict([[6,148,72,35]])"
   ]
  },
  {
   "cell_type": "code",
   "execution_count": null,
   "id": "409497ae",
   "metadata": {},
   "outputs": [],
   "source": [
    "model.coef_"
   ]
  },
  {
   "cell_type": "code",
   "execution_count": null,
   "id": "d49c7fd0",
   "metadata": {},
   "outputs": [],
   "source": [
    "model.intercept_"
   ]
  },
  {
   "cell_type": "code",
   "execution_count": null,
   "id": "74677614",
   "metadata": {},
   "outputs": [],
   "source": [
    "import matplotlib.pyplot as plt"
   ]
  },
  {
   "cell_type": "code",
   "execution_count": null,
   "id": "f1bf266d",
   "metadata": {},
   "outputs": [],
   "source": [
    "#plt.barh(x.columns,model.coef_[0])"
   ]
  },
  {
   "cell_type": "code",
   "execution_count": null,
   "id": "22638b6c",
   "metadata": {},
   "outputs": [],
   "source": [
    "metadata={\"description\":\"Classify the flower name\",\n",
    "           \"version\":\"2.0\",\n",
    "           \"accuracy\":model.score(x,y),\n",
    "           \"dataset\":\"http://garuda.pythonanywhere.com/static/iris.csv\",\n",
    "           \"algorithm\":\"sklearn.linear_model_base.LogisticRegression\",\n",
    "           \"timestamp\":time.ctime(time.time())}"
   ]
  },
  {
   "cell_type": "code",
   "execution_count": null,
   "id": "8d6e2f45",
   "metadata": {},
   "outputs": [],
   "source": [
    "# Pickling model"
   ]
  },
  {
   "cell_type": "code",
   "execution_count": null,
   "id": "056b5ed6",
   "metadata": {},
   "outputs": [],
   "source": [
    "import pickle"
   ]
  },
  {
   "cell_type": "code",
   "execution_count": null,
   "id": "84d715e2",
   "metadata": {},
   "outputs": [],
   "source": [
    "f=open(\"ClassifFlowers2.pkl\",\"wb\")"
   ]
  },
  {
   "cell_type": "code",
   "execution_count": null,
   "id": "4bac2b3f",
   "metadata": {},
   "outputs": [],
   "source": [
    "pickle.dump(model,f)\n",
    "pickle.dump(metadata,f)"
   ]
  },
  {
   "cell_type": "code",
   "execution_count": null,
   "id": "b85be24d",
   "metadata": {},
   "outputs": [],
   "source": [
    "f.close()"
   ]
  },
  {
   "cell_type": "code",
   "execution_count": null,
   "id": "d96df165",
   "metadata": {},
   "outputs": [],
   "source": []
  }
 ],
 "metadata": {
  "kernelspec": {
   "display_name": "Python 3 (ipykernel)",
   "language": "python",
   "name": "python3"
  },
  "language_info": {
   "codemirror_mode": {
    "name": "ipython",
    "version": 3
   },
   "file_extension": ".py",
   "mimetype": "text/x-python",
   "name": "python",
   "nbconvert_exporter": "python",
   "pygments_lexer": "ipython3",
   "version": "3.9.7"
  }
 },
 "nbformat": 4,
 "nbformat_minor": 5
}

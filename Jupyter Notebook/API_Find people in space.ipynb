{
 "cells": [
  {
   "cell_type": "code",
   "execution_count": null,
   "id": "0667f8da",
   "metadata": {},
   "outputs": [],
   "source": [
    "import requests"
   ]
  },
  {
   "cell_type": "code",
   "execution_count": null,
   "id": "9f006ff8",
   "metadata": {},
   "outputs": [],
   "source": [
    "url = \"http://api.open-notify.org/astros.json\""
   ]
  },
  {
   "cell_type": "code",
   "execution_count": null,
   "id": "33243c3f",
   "metadata": {},
   "outputs": [],
   "source": [
    "response = requests.get(url)"
   ]
  },
  {
   "cell_type": "code",
   "execution_count": null,
   "id": "0209bb7d",
   "metadata": {},
   "outputs": [],
   "source": [
    "data = response.json()"
   ]
  },
  {
   "cell_type": "code",
   "execution_count": null,
   "id": "bab26056",
   "metadata": {},
   "outputs": [],
   "source": [
    "data"
   ]
  },
  {
   "cell_type": "code",
   "execution_count": null,
   "id": "24f883c9",
   "metadata": {},
   "outputs": [],
   "source": [
    "people = data.get(\"people\")\n",
    "people"
   ]
  },
  {
   "cell_type": "code",
   "execution_count": null,
   "id": "ea7e996b",
   "metadata": {},
   "outputs": [],
   "source": [
    "names = []\n",
    "for x in people:\n",
    "    p=x.get(\"name\")\n",
    "    names.append(p)"
   ]
  },
  {
   "cell_type": "code",
   "execution_count": null,
   "id": "8cda1296",
   "metadata": {},
   "outputs": [],
   "source": [
    "print(f\"Number of people currently in space are {names}\")"
   ]
  }
 ],
 "metadata": {
  "kernelspec": {
   "display_name": "Python 3 (ipykernel)",
   "language": "python",
   "name": "python3"
  },
  "language_info": {
   "codemirror_mode": {
    "name": "ipython",
    "version": 3
   },
   "file_extension": ".py",
   "mimetype": "text/x-python",
   "name": "python",
   "nbconvert_exporter": "python",
   "pygments_lexer": "ipython3",
   "version": "3.9.7"
  }
 },
 "nbformat": 4,
 "nbformat_minor": 5
}

{
  "nbformat": 4,
  "nbformat_minor": 0,
  "metadata": {
    "colab": {
      "provenance": []
    },
    "kernelspec": {
      "name": "python3",
      "display_name": "Python 3"
    },
    "language_info": {
      "name": "python"
    }
  },
  "cells": [
    {
      "cell_type": "code",
      "execution_count": 7,
      "metadata": {
        "colab": {
          "base_uri": "https://localhost:8080/"
        },
        "id": "P6ptv3qvXGU5",
        "outputId": "ad9cfe8c-c029-4bc4-b7f4-033c5c8ce6f6"
      },
      "outputs": [
        {
          "output_type": "stream",
          "name": "stdout",
          "text": [
            "\u001b[?25l     \u001b[90m━━━━━━━━━━━━━━━━━━━━━━━━━━━━━━━━━━━━━━━━\u001b[0m \u001b[32m0.0/43.1 kB\u001b[0m \u001b[31m?\u001b[0m eta \u001b[36m-:--:--\u001b[0m\r\u001b[2K     \u001b[90m━━━━━━━━━━━━━━━━━━━━━━━━━━━━━━━━━━━━━━━━\u001b[0m \u001b[32m43.1/43.1 kB\u001b[0m \u001b[31m1.7 MB/s\u001b[0m eta \u001b[36m0:00:00\u001b[0m\n",
            "\u001b[?25h\u001b[?25l   \u001b[90m━━━━━━━━━━━━━━━━━━━━━━━━━━━━━━━━━━━━━━━━\u001b[0m \u001b[32m0.0/219.4 kB\u001b[0m \u001b[31m?\u001b[0m eta \u001b[36m-:--:--\u001b[0m\r\u001b[2K   \u001b[91m━━━━━━━━━━━━━━━━━━━━━━━━━━━━━━━━━━━━━━━\u001b[0m\u001b[90m╺\u001b[0m \u001b[32m215.0/219.4 kB\u001b[0m \u001b[31m7.4 MB/s\u001b[0m eta \u001b[36m0:00:01\u001b[0m\r\u001b[2K   \u001b[90m━━━━━━━━━━━━━━━━━━━━━━━━━━━━━━━━━━━━━━━━\u001b[0m \u001b[32m219.4/219.4 kB\u001b[0m \u001b[31m5.2 MB/s\u001b[0m eta \u001b[36m0:00:00\u001b[0m\n",
            "\u001b[?25h"
          ]
        }
      ],
      "source": [
        "pip install -q -U google-genai"
      ]
    },
    {
      "cell_type": "code",
      "source": [
        "from google import genai\n",
        "from google.colab import userdata\n",
        "\n",
        "client = genai.Client(api_key=userdata.get('GoogleAI'))\n",
        "\n",
        "response = client.models.generate_content(\n",
        "    model=\"gemini-2.5-flash\",\n",
        "    contents=\"how Dominican Republic operates\",\n",
        ")\n",
        "\n",
        "print(response.text)"
      ],
      "metadata": {
        "colab": {
          "base_uri": "https://localhost:8080/"
        },
        "collapsed": true,
        "id": "Q0JzEK8DaOBC",
        "outputId": "fba1d629-4286-49d0-d2ee-8ee1d61e24ab"
      },
      "execution_count": 8,
      "outputs": [
        {
          "output_type": "stream",
          "name": "stdout",
          "text": [
            "The Dominican Republic operates as a **representative democracy** with a **mixed economy**, functioning through a defined political structure and facing various socio-economic dynamics.\n",
            "\n",
            "Here's a breakdown of how it generally operates:\n",
            "\n",
            "---\n",
            "\n",
            "### 1. Political System (Government)\n",
            "\n",
            "*   **Type:** Unitary Presidential Republic.\n",
            "*   **Constitution:** The current constitution was enacted in 2015, outlining the framework for governance.\n",
            "*   **Branches of Government:**\n",
            "    *   **Executive:** Headed by the **President**, who is both the head of state and head of government. The President and Vice President are directly elected for four-year terms and can run for re-election once consecutively. The President appoints cabinet ministers.\n",
            "    *   **Legislative:** A bicameral National Congress:\n",
            "        *   **Senate:** 32 members (one per province and one for the National District), elected for four-year terms.\n",
            "        *   **Chamber of Deputies:** 190 members, elected for four-year terms through a mix of direct voting and proportional representation.\n",
            "        *   Their primary role is to draft and approve laws.\n",
            "    *   **Judicial:** Independent of the executive and legislative branches, headed by the **Supreme Court of Justice**. There are lower courts, courts of appeal, and specialized courts. The Constitutional Court ensures the supremacy of the constitution.\n",
            "*   **Elections:** Held every four years (presidential, congressional, and municipal elections often coincide). Universal suffrage is granted to citizens 18 years and older. The political landscape is multi-party, with the Dominican Liberation Party (PLD), Modern Revolutionary Party (PRM), and Social Christian Reformist Party (PRSC) historically being major players, though the PRM is currently dominant.\n",
            "*   **Local Government:** Divided into 31 provinces and one National District (Santo Domingo). Provinces are further divided into municipalities and municipal districts, each with their own elected mayors and municipal councils.\n",
            "\n",
            "---\n",
            "\n",
            "### 2. Economic System\n",
            "\n",
            "The Dominican Republic has a **mixed economy** that is the largest in the Caribbean and Central America, characterized by strong growth in recent decades.\n",
            "\n",
            "*   **Key Sectors:**\n",
            "    *   **Services:** Dominates the economy, primarily driven by **tourism** (beach resorts, eco-tourism, cultural tourism).\n",
            "    *   **Manufacturing:** Significant, especially in **free trade zones (FTZs)**, which offer tax incentives for export-oriented production (textiles, medical devices, electronics).\n",
            "    *   **Agriculture:** Traditional mainstays include sugar, coffee, cocoa, tobacco, and bananas. More recently, fruits and vegetables for export.\n",
            "    *   **Mining:** Gold, silver, nickel, and other minerals contribute significantly. The Pueblo Viejo mine is one of the largest gold mines in the Americas.\n",
            "    *   **Remittances:** A very substantial source of foreign currency and household income, sent by Dominicans living abroad (especially in the US).\n",
            "*   **Trade:** The DR is a signatory to various free trade agreements, including CAFTA-DR (with the US and Central American countries), which facilitates trade with its largest partner, the United States.\n",
            "*   **Currency:** Dominican Peso (DOP).\n",
            "*   **Challenges:** Despite growth, the economy faces challenges such as income inequality, a significant informal sector, vulnerability to external shocks (global economic downturns, hurricanes), and corruption.\n",
            "\n",
            "---\n",
            "\n",
            "### 3. Social & Cultural Aspects\n",
            "\n",
            "*   **Demographics:** A diverse population of mixed European, African, and Indigenous Taíno ancestry. There's a significant Haitian immigrant population and their descendants.\n",
            "*   **Language:** Spanish is the official language.\n",
            "*   **Religion:** Predominantly Roman Catholic, but Protestant denominations are growing.\n",
            "*   **Culture:** Vibrant and rich, famous for its music (merengue, bachata), dance, baseball, and hospitality. Family values are strong, and social life often revolves around community events and celebrations.\n",
            "*   **Education:** Public and private education systems. Education is compulsory for children up to a certain age.\n",
            "*   **Healthcare:** A mix of public and private healthcare facilities. Public services can be strained, leading many who can afford it to opt for private care.\n",
            "*   **Social Issues:** Key concerns include poverty, inequality, public safety (crime), corruption, and the complex relationship and migration issues with neighboring Haiti.\n",
            "\n",
            "---\n",
            "\n",
            "### 4. Infrastructure & Services\n",
            "\n",
            "*   **Transportation:** Well-developed road network, several international airports (Punta Cana, Santo Domingo, Santiago being the largest), and major seaports.\n",
            "*   **Energy:** Electricity supply has historically been an issue with frequent outages, but improvements have been made. The country relies on a mix of fossil fuels and a growing share of renewables.\n",
            "*   **Water & Sanitation:** Access to potable water and sanitation varies, with better coverage in urban areas than in rural ones.\n",
            "*   **Telecommunications:** High penetration rates for mobile phones and internet services.\n",
            "\n",
            "---\n",
            "\n",
            "### 5. International Relations\n",
            "\n",
            "*   **Key Partners:** The United States is its most important economic and political partner due to trade, investment, tourism, and a large Dominican diaspora. Relations with other Caribbean nations, Latin American countries, and European nations are also significant.\n",
            "*   **Regional Role:** The DR plays an active role in regional organizations like the Organization of American States (OAS), the Caribbean Community (CARICOM - as an observer), and the Central American Integration System (SICA).\n",
            "*   **Haiti:** The relationship with Haiti, which shares the island of Hispaniola, is uniquely complex, marked by historical ties, significant cross-border migration, trade, and occasional diplomatic tensions.\n",
            "\n",
            "---\n",
            "\n",
            "In summary, the Dominican Republic operates as a dynamic and growing nation with a robust democratic framework and an economy heavily reliant on tourism and services. It continues to navigate socio-economic challenges while leveraging its strategic location, rich culture, and natural resources.\n"
          ]
        }
      ]
    },
    {
      "cell_type": "markdown",
      "source": [
        "## AI agent with langchain"
      ],
      "metadata": {
        "id": "YHIJmmjf3S9G"
      }
    },
    {
      "cell_type": "code",
      "source": [
        "!pip install langchain langchain_community"
      ],
      "metadata": {
        "colab": {
          "base_uri": "https://localhost:8080/"
        },
        "collapsed": true,
        "id": "zkLBzN70YC1V",
        "outputId": "f6a53fc3-be03-4dba-a7ea-0795486cc097"
      },
      "execution_count": 9,
      "outputs": [
        {
          "output_type": "stream",
          "name": "stdout",
          "text": [
            "Requirement already satisfied: langchain in /usr/local/lib/python3.11/dist-packages (0.3.27)\n",
            "Collecting langchain_community\n",
            "  Downloading langchain_community-0.3.27-py3-none-any.whl.metadata (2.9 kB)\n",
            "Requirement already satisfied: langchain-core<1.0.0,>=0.3.72 in /usr/local/lib/python3.11/dist-packages (from langchain) (0.3.72)\n",
            "Requirement already satisfied: langchain-text-splitters<1.0.0,>=0.3.9 in /usr/local/lib/python3.11/dist-packages (from langchain) (0.3.9)\n",
            "Requirement already satisfied: langsmith>=0.1.17 in /usr/local/lib/python3.11/dist-packages (from langchain) (0.4.8)\n",
            "Requirement already satisfied: pydantic<3.0.0,>=2.7.4 in /usr/local/lib/python3.11/dist-packages (from langchain) (2.11.7)\n",
            "Requirement already satisfied: SQLAlchemy<3,>=1.4 in /usr/local/lib/python3.11/dist-packages (from langchain) (2.0.41)\n",
            "Requirement already satisfied: requests<3,>=2 in /usr/local/lib/python3.11/dist-packages (from langchain) (2.32.3)\n",
            "Requirement already satisfied: PyYAML>=5.3 in /usr/local/lib/python3.11/dist-packages (from langchain) (6.0.2)\n",
            "Requirement already satisfied: aiohttp<4.0.0,>=3.8.3 in /usr/local/lib/python3.11/dist-packages (from langchain_community) (3.12.14)\n",
            "Requirement already satisfied: tenacity!=8.4.0,<10,>=8.1.0 in /usr/local/lib/python3.11/dist-packages (from langchain_community) (8.5.0)\n",
            "Collecting dataclasses-json<0.7,>=0.5.7 (from langchain_community)\n",
            "  Downloading dataclasses_json-0.6.7-py3-none-any.whl.metadata (25 kB)\n",
            "Collecting pydantic-settings<3.0.0,>=2.4.0 (from langchain_community)\n",
            "  Downloading pydantic_settings-2.10.1-py3-none-any.whl.metadata (3.4 kB)\n",
            "Collecting httpx-sse<1.0.0,>=0.4.0 (from langchain_community)\n",
            "  Downloading httpx_sse-0.4.1-py3-none-any.whl.metadata (9.4 kB)\n",
            "Requirement already satisfied: numpy>=1.26.2 in /usr/local/lib/python3.11/dist-packages (from langchain_community) (2.0.2)\n",
            "Requirement already satisfied: aiohappyeyeballs>=2.5.0 in /usr/local/lib/python3.11/dist-packages (from aiohttp<4.0.0,>=3.8.3->langchain_community) (2.6.1)\n",
            "Requirement already satisfied: aiosignal>=1.4.0 in /usr/local/lib/python3.11/dist-packages (from aiohttp<4.0.0,>=3.8.3->langchain_community) (1.4.0)\n",
            "Requirement already satisfied: attrs>=17.3.0 in /usr/local/lib/python3.11/dist-packages (from aiohttp<4.0.0,>=3.8.3->langchain_community) (25.3.0)\n",
            "Requirement already satisfied: frozenlist>=1.1.1 in /usr/local/lib/python3.11/dist-packages (from aiohttp<4.0.0,>=3.8.3->langchain_community) (1.7.0)\n",
            "Requirement already satisfied: multidict<7.0,>=4.5 in /usr/local/lib/python3.11/dist-packages (from aiohttp<4.0.0,>=3.8.3->langchain_community) (6.6.3)\n",
            "Requirement already satisfied: propcache>=0.2.0 in /usr/local/lib/python3.11/dist-packages (from aiohttp<4.0.0,>=3.8.3->langchain_community) (0.3.2)\n",
            "Requirement already satisfied: yarl<2.0,>=1.17.0 in /usr/local/lib/python3.11/dist-packages (from aiohttp<4.0.0,>=3.8.3->langchain_community) (1.20.1)\n",
            "Collecting marshmallow<4.0.0,>=3.18.0 (from dataclasses-json<0.7,>=0.5.7->langchain_community)\n",
            "  Downloading marshmallow-3.26.1-py3-none-any.whl.metadata (7.3 kB)\n",
            "Collecting typing-inspect<1,>=0.4.0 (from dataclasses-json<0.7,>=0.5.7->langchain_community)\n",
            "  Downloading typing_inspect-0.9.0-py3-none-any.whl.metadata (1.5 kB)\n",
            "Requirement already satisfied: jsonpatch<2.0,>=1.33 in /usr/local/lib/python3.11/dist-packages (from langchain-core<1.0.0,>=0.3.72->langchain) (1.33)\n",
            "Requirement already satisfied: typing-extensions>=4.7 in /usr/local/lib/python3.11/dist-packages (from langchain-core<1.0.0,>=0.3.72->langchain) (4.14.1)\n",
            "Requirement already satisfied: packaging>=23.2 in /usr/local/lib/python3.11/dist-packages (from langchain-core<1.0.0,>=0.3.72->langchain) (25.0)\n",
            "Requirement already satisfied: httpx<1,>=0.23.0 in /usr/local/lib/python3.11/dist-packages (from langsmith>=0.1.17->langchain) (0.28.1)\n",
            "Requirement already satisfied: orjson<4.0.0,>=3.9.14 in /usr/local/lib/python3.11/dist-packages (from langsmith>=0.1.17->langchain) (3.11.1)\n",
            "Requirement already satisfied: requests-toolbelt<2.0.0,>=1.0.0 in /usr/local/lib/python3.11/dist-packages (from langsmith>=0.1.17->langchain) (1.0.0)\n",
            "Requirement already satisfied: zstandard<0.24.0,>=0.23.0 in /usr/local/lib/python3.11/dist-packages (from langsmith>=0.1.17->langchain) (0.23.0)\n",
            "Requirement already satisfied: annotated-types>=0.6.0 in /usr/local/lib/python3.11/dist-packages (from pydantic<3.0.0,>=2.7.4->langchain) (0.7.0)\n",
            "Requirement already satisfied: pydantic-core==2.33.2 in /usr/local/lib/python3.11/dist-packages (from pydantic<3.0.0,>=2.7.4->langchain) (2.33.2)\n",
            "Requirement already satisfied: typing-inspection>=0.4.0 in /usr/local/lib/python3.11/dist-packages (from pydantic<3.0.0,>=2.7.4->langchain) (0.4.1)\n",
            "Collecting python-dotenv>=0.21.0 (from pydantic-settings<3.0.0,>=2.4.0->langchain_community)\n",
            "  Downloading python_dotenv-1.1.1-py3-none-any.whl.metadata (24 kB)\n",
            "Requirement already satisfied: charset-normalizer<4,>=2 in /usr/local/lib/python3.11/dist-packages (from requests<3,>=2->langchain) (3.4.2)\n",
            "Requirement already satisfied: idna<4,>=2.5 in /usr/local/lib/python3.11/dist-packages (from requests<3,>=2->langchain) (3.10)\n",
            "Requirement already satisfied: urllib3<3,>=1.21.1 in /usr/local/lib/python3.11/dist-packages (from requests<3,>=2->langchain) (2.5.0)\n",
            "Requirement already satisfied: certifi>=2017.4.17 in /usr/local/lib/python3.11/dist-packages (from requests<3,>=2->langchain) (2025.7.14)\n",
            "Requirement already satisfied: greenlet>=1 in /usr/local/lib/python3.11/dist-packages (from SQLAlchemy<3,>=1.4->langchain) (3.2.3)\n",
            "Requirement already satisfied: anyio in /usr/local/lib/python3.11/dist-packages (from httpx<1,>=0.23.0->langsmith>=0.1.17->langchain) (4.9.0)\n",
            "Requirement already satisfied: httpcore==1.* in /usr/local/lib/python3.11/dist-packages (from httpx<1,>=0.23.0->langsmith>=0.1.17->langchain) (1.0.9)\n",
            "Requirement already satisfied: h11>=0.16 in /usr/local/lib/python3.11/dist-packages (from httpcore==1.*->httpx<1,>=0.23.0->langsmith>=0.1.17->langchain) (0.16.0)\n",
            "Requirement already satisfied: jsonpointer>=1.9 in /usr/local/lib/python3.11/dist-packages (from jsonpatch<2.0,>=1.33->langchain-core<1.0.0,>=0.3.72->langchain) (3.0.0)\n",
            "Collecting mypy-extensions>=0.3.0 (from typing-inspect<1,>=0.4.0->dataclasses-json<0.7,>=0.5.7->langchain_community)\n",
            "  Downloading mypy_extensions-1.1.0-py3-none-any.whl.metadata (1.1 kB)\n",
            "Requirement already satisfied: sniffio>=1.1 in /usr/local/lib/python3.11/dist-packages (from anyio->httpx<1,>=0.23.0->langsmith>=0.1.17->langchain) (1.3.1)\n",
            "Downloading langchain_community-0.3.27-py3-none-any.whl (2.5 MB)\n",
            "\u001b[2K   \u001b[90m━━━━━━━━━━━━━━━━━━━━━━━━━━━━━━━━━━━━━━━━\u001b[0m \u001b[32m2.5/2.5 MB\u001b[0m \u001b[31m26.5 MB/s\u001b[0m eta \u001b[36m0:00:00\u001b[0m\n",
            "\u001b[?25hDownloading dataclasses_json-0.6.7-py3-none-any.whl (28 kB)\n",
            "Downloading httpx_sse-0.4.1-py3-none-any.whl (8.1 kB)\n",
            "Downloading pydantic_settings-2.10.1-py3-none-any.whl (45 kB)\n",
            "\u001b[2K   \u001b[90m━━━━━━━━━━━━━━━━━━━━━━━━━━━━━━━━━━━━━━━━\u001b[0m \u001b[32m45.2/45.2 kB\u001b[0m \u001b[31m4.4 MB/s\u001b[0m eta \u001b[36m0:00:00\u001b[0m\n",
            "\u001b[?25hDownloading marshmallow-3.26.1-py3-none-any.whl (50 kB)\n",
            "\u001b[2K   \u001b[90m━━━━━━━━━━━━━━━━━━━━━━━━━━━━━━━━━━━━━━━━\u001b[0m \u001b[32m50.9/50.9 kB\u001b[0m \u001b[31m4.1 MB/s\u001b[0m eta \u001b[36m0:00:00\u001b[0m\n",
            "\u001b[?25hDownloading python_dotenv-1.1.1-py3-none-any.whl (20 kB)\n",
            "Downloading typing_inspect-0.9.0-py3-none-any.whl (8.8 kB)\n",
            "Downloading mypy_extensions-1.1.0-py3-none-any.whl (5.0 kB)\n",
            "Installing collected packages: python-dotenv, mypy-extensions, marshmallow, httpx-sse, typing-inspect, pydantic-settings, dataclasses-json, langchain_community\n",
            "Successfully installed dataclasses-json-0.6.7 httpx-sse-0.4.1 langchain_community-0.3.27 marshmallow-3.26.1 mypy-extensions-1.1.0 pydantic-settings-2.10.1 python-dotenv-1.1.1 typing-inspect-0.9.0\n"
          ]
        }
      ]
    },
    {
      "cell_type": "code",
      "source": [
        "!pip install langchain langchain_community faiss-cpu"
      ],
      "metadata": {
        "colab": {
          "base_uri": "https://localhost:8080/"
        },
        "collapsed": true,
        "id": "o_pugF6dYHuk",
        "outputId": "7ee89a6b-bc90-45b9-8e95-b7db4400a123"
      },
      "execution_count": 10,
      "outputs": [
        {
          "output_type": "stream",
          "name": "stdout",
          "text": [
            "Requirement already satisfied: langchain in /usr/local/lib/python3.11/dist-packages (0.3.27)\n",
            "Requirement already satisfied: langchain_community in /usr/local/lib/python3.11/dist-packages (0.3.27)\n",
            "Collecting faiss-cpu\n",
            "  Downloading faiss_cpu-1.11.0.post1-cp311-cp311-manylinux_2_27_x86_64.manylinux_2_28_x86_64.whl.metadata (5.0 kB)\n",
            "Requirement already satisfied: langchain-core<1.0.0,>=0.3.72 in /usr/local/lib/python3.11/dist-packages (from langchain) (0.3.72)\n",
            "Requirement already satisfied: langchain-text-splitters<1.0.0,>=0.3.9 in /usr/local/lib/python3.11/dist-packages (from langchain) (0.3.9)\n",
            "Requirement already satisfied: langsmith>=0.1.17 in /usr/local/lib/python3.11/dist-packages (from langchain) (0.4.8)\n",
            "Requirement already satisfied: pydantic<3.0.0,>=2.7.4 in /usr/local/lib/python3.11/dist-packages (from langchain) (2.11.7)\n",
            "Requirement already satisfied: SQLAlchemy<3,>=1.4 in /usr/local/lib/python3.11/dist-packages (from langchain) (2.0.41)\n",
            "Requirement already satisfied: requests<3,>=2 in /usr/local/lib/python3.11/dist-packages (from langchain) (2.32.3)\n",
            "Requirement already satisfied: PyYAML>=5.3 in /usr/local/lib/python3.11/dist-packages (from langchain) (6.0.2)\n",
            "Requirement already satisfied: aiohttp<4.0.0,>=3.8.3 in /usr/local/lib/python3.11/dist-packages (from langchain_community) (3.12.14)\n",
            "Requirement already satisfied: tenacity!=8.4.0,<10,>=8.1.0 in /usr/local/lib/python3.11/dist-packages (from langchain_community) (8.5.0)\n",
            "Requirement already satisfied: dataclasses-json<0.7,>=0.5.7 in /usr/local/lib/python3.11/dist-packages (from langchain_community) (0.6.7)\n",
            "Requirement already satisfied: pydantic-settings<3.0.0,>=2.4.0 in /usr/local/lib/python3.11/dist-packages (from langchain_community) (2.10.1)\n",
            "Requirement already satisfied: httpx-sse<1.0.0,>=0.4.0 in /usr/local/lib/python3.11/dist-packages (from langchain_community) (0.4.1)\n",
            "Requirement already satisfied: numpy>=1.26.2 in /usr/local/lib/python3.11/dist-packages (from langchain_community) (2.0.2)\n",
            "Requirement already satisfied: packaging in /usr/local/lib/python3.11/dist-packages (from faiss-cpu) (25.0)\n",
            "Requirement already satisfied: aiohappyeyeballs>=2.5.0 in /usr/local/lib/python3.11/dist-packages (from aiohttp<4.0.0,>=3.8.3->langchain_community) (2.6.1)\n",
            "Requirement already satisfied: aiosignal>=1.4.0 in /usr/local/lib/python3.11/dist-packages (from aiohttp<4.0.0,>=3.8.3->langchain_community) (1.4.0)\n",
            "Requirement already satisfied: attrs>=17.3.0 in /usr/local/lib/python3.11/dist-packages (from aiohttp<4.0.0,>=3.8.3->langchain_community) (25.3.0)\n",
            "Requirement already satisfied: frozenlist>=1.1.1 in /usr/local/lib/python3.11/dist-packages (from aiohttp<4.0.0,>=3.8.3->langchain_community) (1.7.0)\n",
            "Requirement already satisfied: multidict<7.0,>=4.5 in /usr/local/lib/python3.11/dist-packages (from aiohttp<4.0.0,>=3.8.3->langchain_community) (6.6.3)\n",
            "Requirement already satisfied: propcache>=0.2.0 in /usr/local/lib/python3.11/dist-packages (from aiohttp<4.0.0,>=3.8.3->langchain_community) (0.3.2)\n",
            "Requirement already satisfied: yarl<2.0,>=1.17.0 in /usr/local/lib/python3.11/dist-packages (from aiohttp<4.0.0,>=3.8.3->langchain_community) (1.20.1)\n",
            "Requirement already satisfied: marshmallow<4.0.0,>=3.18.0 in /usr/local/lib/python3.11/dist-packages (from dataclasses-json<0.7,>=0.5.7->langchain_community) (3.26.1)\n",
            "Requirement already satisfied: typing-inspect<1,>=0.4.0 in /usr/local/lib/python3.11/dist-packages (from dataclasses-json<0.7,>=0.5.7->langchain_community) (0.9.0)\n",
            "Requirement already satisfied: jsonpatch<2.0,>=1.33 in /usr/local/lib/python3.11/dist-packages (from langchain-core<1.0.0,>=0.3.72->langchain) (1.33)\n",
            "Requirement already satisfied: typing-extensions>=4.7 in /usr/local/lib/python3.11/dist-packages (from langchain-core<1.0.0,>=0.3.72->langchain) (4.14.1)\n",
            "Requirement already satisfied: httpx<1,>=0.23.0 in /usr/local/lib/python3.11/dist-packages (from langsmith>=0.1.17->langchain) (0.28.1)\n",
            "Requirement already satisfied: orjson<4.0.0,>=3.9.14 in /usr/local/lib/python3.11/dist-packages (from langsmith>=0.1.17->langchain) (3.11.1)\n",
            "Requirement already satisfied: requests-toolbelt<2.0.0,>=1.0.0 in /usr/local/lib/python3.11/dist-packages (from langsmith>=0.1.17->langchain) (1.0.0)\n",
            "Requirement already satisfied: zstandard<0.24.0,>=0.23.0 in /usr/local/lib/python3.11/dist-packages (from langsmith>=0.1.17->langchain) (0.23.0)\n",
            "Requirement already satisfied: annotated-types>=0.6.0 in /usr/local/lib/python3.11/dist-packages (from pydantic<3.0.0,>=2.7.4->langchain) (0.7.0)\n",
            "Requirement already satisfied: pydantic-core==2.33.2 in /usr/local/lib/python3.11/dist-packages (from pydantic<3.0.0,>=2.7.4->langchain) (2.33.2)\n",
            "Requirement already satisfied: typing-inspection>=0.4.0 in /usr/local/lib/python3.11/dist-packages (from pydantic<3.0.0,>=2.7.4->langchain) (0.4.1)\n",
            "Requirement already satisfied: python-dotenv>=0.21.0 in /usr/local/lib/python3.11/dist-packages (from pydantic-settings<3.0.0,>=2.4.0->langchain_community) (1.1.1)\n",
            "Requirement already satisfied: charset-normalizer<4,>=2 in /usr/local/lib/python3.11/dist-packages (from requests<3,>=2->langchain) (3.4.2)\n",
            "Requirement already satisfied: idna<4,>=2.5 in /usr/local/lib/python3.11/dist-packages (from requests<3,>=2->langchain) (3.10)\n",
            "Requirement already satisfied: urllib3<3,>=1.21.1 in /usr/local/lib/python3.11/dist-packages (from requests<3,>=2->langchain) (2.5.0)\n",
            "Requirement already satisfied: certifi>=2017.4.17 in /usr/local/lib/python3.11/dist-packages (from requests<3,>=2->langchain) (2025.7.14)\n",
            "Requirement already satisfied: greenlet>=1 in /usr/local/lib/python3.11/dist-packages (from SQLAlchemy<3,>=1.4->langchain) (3.2.3)\n",
            "Requirement already satisfied: anyio in /usr/local/lib/python3.11/dist-packages (from httpx<1,>=0.23.0->langsmith>=0.1.17->langchain) (4.9.0)\n",
            "Requirement already satisfied: httpcore==1.* in /usr/local/lib/python3.11/dist-packages (from httpx<1,>=0.23.0->langsmith>=0.1.17->langchain) (1.0.9)\n",
            "Requirement already satisfied: h11>=0.16 in /usr/local/lib/python3.11/dist-packages (from httpcore==1.*->httpx<1,>=0.23.0->langsmith>=0.1.17->langchain) (0.16.0)\n",
            "Requirement already satisfied: jsonpointer>=1.9 in /usr/local/lib/python3.11/dist-packages (from jsonpatch<2.0,>=1.33->langchain-core<1.0.0,>=0.3.72->langchain) (3.0.0)\n",
            "Requirement already satisfied: mypy-extensions>=0.3.0 in /usr/local/lib/python3.11/dist-packages (from typing-inspect<1,>=0.4.0->dataclasses-json<0.7,>=0.5.7->langchain_community) (1.1.0)\n",
            "Requirement already satisfied: sniffio>=1.1 in /usr/local/lib/python3.11/dist-packages (from anyio->httpx<1,>=0.23.0->langsmith>=0.1.17->langchain) (1.3.1)\n",
            "Downloading faiss_cpu-1.11.0.post1-cp311-cp311-manylinux_2_27_x86_64.manylinux_2_28_x86_64.whl (31.3 MB)\n",
            "\u001b[2K   \u001b[90m━━━━━━━━━━━━━━━━━━━━━━━━━━━━━━━━━━━━━━━━\u001b[0m \u001b[32m31.3/31.3 MB\u001b[0m \u001b[31m32.2 MB/s\u001b[0m eta \u001b[36m0:00:00\u001b[0m\n",
            "\u001b[?25hInstalling collected packages: faiss-cpu\n",
            "Successfully installed faiss-cpu-1.11.0.post1\n"
          ]
        }
      ]
    },
    {
      "cell_type": "code",
      "source": [
        "#reading content from CPU\n",
        "from langchain.document_loaders import WebBaseLoader\n",
        "loader = WebBaseLoader(\"https://www.ibm.com/think/topics/agentic-ai\")\n",
        "web_content = loader.load()\n",
        "\n",
        "#Perform chunking on web content using recurcive text spitter\n",
        "\n",
        "from langchain.text_splitter import RecursiveCharacterTextSplitter\n",
        "text_splitter = RecursiveCharacterTextSplitter(\n",
        "      chunk_size = 800,\n",
        "      chunk_overlap = 200,\n",
        "      length_function = len\n",
        ")\n",
        "\n",
        "chunks = text_splitter.split_documents(web_content)\n",
        "print(chunks)\n",
        "len(chunks)\n",
        ""
      ],
      "metadata": {
        "colab": {
          "base_uri": "https://localhost:8080/"
        },
        "id": "sy9HJbYwYlaw",
        "outputId": "d0fe954c-6bd9-4c86-829d-d59ac0dabc3d"
      },
      "execution_count": 11,
      "outputs": [
        {
          "output_type": "stream",
          "name": "stderr",
          "text": [
            "WARNING:langchain_community.utils.user_agent:USER_AGENT environment variable not set, consider setting it to identify your requests.\n"
          ]
        },
        {
          "output_type": "stream",
          "name": "stdout",
          "text": [
            "[Document(metadata={'source': 'https://www.ibm.com/think/topics/agentic-ai', 'title': 'What Is Agentic AI? | IBM', 'description': 'Agentic AI is an artificial intelligence system that can accomplish a specific goal with limited supervision. It consists of ai agents—machine learning models that mimic human decision-making to solve problems in real time.', 'language': 'en'}, page_content='What Is Agentic AI? | IBM\\n\\n\\n\\n\\n\\n\\n\\n\\n\\n\\n\\n\\n\\n\\n\\n\\n\\n\\n\\n\\n\\n\\n\\n\\n\\n\\n\\n\\n\\n\\n\\n\\n\\n\\n\\n\\n\\n\\n\\n\\n\\n\\n\\n\\n\\n\\n\\n\\n\\n\\n\\n\\n\\n\\n\\n\\n\\n\\n\\n\\n\\n\\n\\n\\n\\n\\n\\n\\n\\n\\n\\n\\n\\n\\n\\n\\n\\n\\n\\n\\n\\n\\n\\n\\n\\n\\n\\n\\n\\n\\n\\n\\n\\n\\n                                   \\n\\n\\n\\n  \\n    What is agentic AI? \\n\\n\\n\\n\\n\\n\\n    \\n\\n\\n                               \\n\\n\\n\\n\\n\\n\\n\\n\\n\\n\\n\\n\\n\\n\\n\\n\\n\\n\\n\\n\\n\\n\\n\\n\\n\\n\\n\\n\\n\\n\\nAI Agents\\n\\n\\n\\nWelcome\\n\\n\\n\\n\\n\\nCaret right\\n\\nIntroduction\\n\\n\\n\\n\\nOverview\\n\\n\\n\\n\\nAI agents vs AI assistants\\n\\n\\n\\n\\nAgentic AI\\n\\n\\n\\n\\nAgentic AI vs generative AI\\n\\n\\n\\n\\nTypes of AI agents\\n\\n\\n\\n\\n\\n\\n\\nCaret right\\n\\nComponents\\n\\n\\n\\n\\nOverview\\n\\n\\n\\n\\n\\nCaret right\\n\\nAgentic workflows\\n\\n\\n\\n\\nWhat are agentic workflows?\\n\\n\\n\\n\\nTutorial: Agentic workflows\\n\\n\\n\\n\\n\\n\\nCommunication\\n\\n\\n\\n\\nLearning\\n\\n\\n\\n\\nMemory\\n\\n\\n\\n\\nPerception\\n\\n\\n\\n\\nPlanning\\n\\n\\n\\n\\nReasoning\\n\\n\\n\\n\\n\\nCaret right\\n\\nTool calling\\n\\n\\n\\n\\nWhat is tool calling?\\n\\n\\n\\n\\nTutorial: Ollama tool calling\\n\\n\\n\\n\\n\\n\\n\\n\\n\\nCaret right\\n\\nArchitecture'), Document(metadata={'source': 'https://www.ibm.com/think/topics/agentic-ai', 'title': 'What Is Agentic AI? | IBM', 'description': 'Agentic AI is an artificial intelligence system that can accomplish a specific goal with limited supervision. It consists of ai agents—machine learning models that mimic human decision-making to solve problems in real time.', 'language': 'en'}, page_content='Learning\\n\\n\\n\\n\\nMemory\\n\\n\\n\\n\\nPerception\\n\\n\\n\\n\\nPlanning\\n\\n\\n\\n\\nReasoning\\n\\n\\n\\n\\n\\nCaret right\\n\\nTool calling\\n\\n\\n\\n\\nWhat is tool calling?\\n\\n\\n\\n\\nTutorial: Ollama tool calling\\n\\n\\n\\n\\n\\n\\n\\n\\n\\nCaret right\\n\\nArchitecture\\n\\n\\n\\n\\nOverview\\n\\n\\n\\n\\n\\nCaret right\\n\\nAI agent orchestration\\n\\n\\n\\n\\nWhat is agent orchestration?\\n\\n\\n\\n\\nTutorial: Agent orchestration\\n\\n\\n\\n\\n\\n\\n\\nCaret right\\n\\nMulti-agent systems\\n\\n\\n\\n\\nWhat are multi-agent systems?\\n\\n\\n\\n\\nTutorial: crewAI multi-agent call analysis\\n\\n\\n\\n\\n\\n\\nMulti-agent collaboration\\n\\n\\n\\n\\n\\nCaret right\\n\\nReAct\\n\\n\\n\\n\\nWhat is ReAct?\\n\\n\\n\\n\\nTutorial: LangGraph ReAct agent\\n\\n\\n\\n\\n\\n\\n\\nCaret right\\n\\nReWOO\\n\\n\\n\\n\\nTutorial: ReWOO reasoning agent\\n\\n\\n\\n\\n\\n\\n\\n\\n\\nCaret right\\n\\nProtocols\\n\\n\\n\\n\\nAgent Communication Protocol (ACP)\\n\\n\\n\\n\\nAgent2Agent (A2A)\\n\\n\\n\\n\\nModel Context Protocol (MCP)\\n\\n\\n\\n\\n\\n\\n\\nCaret right\\n\\nMulti-agent systems\\n\\n\\n\\n\\nOverview'), Document(metadata={'source': 'https://www.ibm.com/think/topics/agentic-ai', 'title': 'What Is Agentic AI? | IBM', 'description': 'Agentic AI is an artificial intelligence system that can accomplish a specific goal with limited supervision. It consists of ai agents—machine learning models that mimic human decision-making to solve problems in real time.', 'language': 'en'}, page_content='Caret right\\n\\nProtocols\\n\\n\\n\\n\\nAgent Communication Protocol (ACP)\\n\\n\\n\\n\\nAgent2Agent (A2A)\\n\\n\\n\\n\\nModel Context Protocol (MCP)\\n\\n\\n\\n\\n\\n\\n\\nCaret right\\n\\nMulti-agent systems\\n\\n\\n\\n\\nOverview\\n\\n\\n\\n\\n\\nCaret right\\n\\nAgentic orchestration\\n\\n\\n\\n\\nWhat is agentic orchestration?\\n\\n\\n\\n\\nTutorial: Agent orchestration\\n\\n\\n\\n\\n\\n\\nMulti-agent collaboration\\n\\n\\n\\n\\nTutorial: crewAI multi-agent call analysis\\n\\n\\n\\n\\n\\n\\n\\nCaret right\\n\\nFrameworks\\n\\n\\n\\n\\nOverview\\n\\n\\n\\n\\n\\nCaret right\\n\\nAutoGen\\n\\n\\n\\n\\nTutorial: AutoGen multi-agent RAG\\n\\n\\n\\n\\n\\n\\nAutoGPT\\n\\n\\n\\n\\n\\nCaret right\\n\\nBeeAI\\n\\n\\n\\n\\nWhat is BeeAI?\\n\\n\\n\\n\\nTutorial: BeeAI agentic contract management\\n\\n\\n\\n\\n\\n\\n\\nCaret right\\n\\nChatDev\\n\\n\\n\\n\\nWhat is ChatDev?\\n\\n\\n\\n\\nTutorial: ChatDev ChatChain\\n\\n\\n\\n\\n\\n\\n\\nCaret right\\n\\ncrewAI\\n\\n\\n\\n\\nWhat is crewAI?\\n\\n\\n\\n\\nTutorial: crewAI retail shelf optimization\\n\\n\\n\\n\\n\\n\\n\\nCaret right\\n\\nLangGraph'), Document(metadata={'source': 'https://www.ibm.com/think/topics/agentic-ai', 'title': 'What Is Agentic AI? | IBM', 'description': 'Agentic AI is an artificial intelligence system that can accomplish a specific goal with limited supervision. It consists of ai agents—machine learning models that mimic human decision-making to solve problems in real time.', 'language': 'en'}, page_content='ChatDev\\n\\n\\n\\n\\nWhat is ChatDev?\\n\\n\\n\\n\\nTutorial: ChatDev ChatChain\\n\\n\\n\\n\\n\\n\\n\\nCaret right\\n\\ncrewAI\\n\\n\\n\\n\\nWhat is crewAI?\\n\\n\\n\\n\\nTutorial: crewAI retail shelf optimization\\n\\n\\n\\n\\n\\n\\n\\nCaret right\\n\\nLangGraph\\n\\n\\n\\n\\nWhat is LangGraph?\\n\\n\\n\\n\\nTutorial: LangGraph SQL agent\\n\\n\\n\\n\\nTutorial: LangGraph ReAct agent\\n\\n\\n\\n\\n\\n\\n\\nCaret right\\n\\nLangChain\\n\\n\\n\\n\\nWhat is LangChain?\\n\\n\\n\\n\\nTutorial: LangChain agent\\n\\n\\n\\n\\n\\n\\n\\nCaret right\\n\\nMetaGPT\\n\\n\\n\\n\\nWhat is MetaGPT?\\n\\n\\n\\n\\nTutorial: Multi-agent PRD automation\\n\\n\\n\\n\\n\\n\\n\\n\\n\\nCaret right\\n\\nGovernance\\n\\n\\n\\n\\nOverview\\n\\n\\n\\n\\nAI agent ethics\\n\\n\\n\\n\\n\\nCaret right\\n\\nAI agent evaluation\\n\\n\\n\\n\\nWhat is AI agent evaluation?\\n\\n\\n\\n\\nTutorial: AI agent evaluation\\n\\n\\n\\n\\n\\n\\n\\n\\n\\nCaret right\\n\\nAgentic RAG\\n\\n\\n\\n\\nOverview\\n\\n\\n\\n\\nTutorial: LangChain agentic RAG \\n\\n\\n\\n\\n\\nCaret right\\n\\nAgentic chunking\\n\\n\\n\\n\\nWhat is agentic chunking?'), Document(metadata={'source': 'https://www.ibm.com/think/topics/agentic-ai', 'title': 'What Is Agentic AI? | IBM', 'description': 'Agentic AI is an artificial intelligence system that can accomplish a specific goal with limited supervision. It consists of ai agents—machine learning models that mimic human decision-making to solve problems in real time.', 'language': 'en'}, page_content='Tutorial: AI agent evaluation\\n\\n\\n\\n\\n\\n\\n\\n\\n\\nCaret right\\n\\nAgentic RAG\\n\\n\\n\\n\\nOverview\\n\\n\\n\\n\\nTutorial: LangChain agentic RAG \\n\\n\\n\\n\\n\\nCaret right\\n\\nAgentic chunking\\n\\n\\n\\n\\nWhat is agentic chunking?\\n\\n\\n\\n\\nTutorial: Agentic chunking for RAG\\n\\n\\n\\n\\n\\n\\n\\n\\n\\nCaret right\\n\\nUse cases / Applications\\n\\n\\n\\n\\nOverview\\n\\n\\n\\n\\nAutomation\\n\\n\\n\\n\\nCustomer service\\n\\n\\n\\n\\nHuman resources\\n\\n\\n\\n\\nMarketing\\n\\n\\n\\n\\nProcurement\\n\\n\\n\\n\\nSales\\n\\n\\n\\n\\n\\n\\n\\n\\n\\n\\n\\n\\n\\n\\n\\n\\n\\n\\n\\n        \\n\\n\\n\\n  \\n    Authors\\n\\n\\n\\n\\n\\n\\n    \\n\\n\\n    \\n\\n\\n\\n\\n\\n\\n\\n\\n\\n\\n\\n\\n\\n\\n\\nCole Stryker\\n\\nEditorial Lead, AI Models\\n\\n\\n\\n\\n\\n\\n\\n\\r\\n        What is agentic AI?'), Document(metadata={'source': 'https://www.ibm.com/think/topics/agentic-ai', 'title': 'What Is Agentic AI? | IBM', 'description': 'Agentic AI is an artificial intelligence system that can accomplish a specific goal with limited supervision. It consists of ai agents—machine learning models that mimic human decision-making to solve problems in real time.', 'language': 'en'}, page_content='Procurement\\n\\n\\n\\n\\nSales\\n\\n\\n\\n\\n\\n\\n\\n\\n\\n\\n\\n\\n\\n\\n\\n\\n\\n\\n\\n        \\n\\n\\n\\n  \\n    Authors\\n\\n\\n\\n\\n\\n\\n    \\n\\n\\n    \\n\\n\\n\\n\\n\\n\\n\\n\\n\\n\\n\\n\\n\\n\\n\\nCole Stryker\\n\\nEditorial Lead, AI Models\\n\\n\\n\\n\\n\\n\\n\\n\\r\\n        What is agentic AI?\\r\\n    \\n\\n\\n\\nAgentic AI is an artificial intelligence system that can accomplish a specific goal with limited supervision. It consists of AI agents—machine learning models that mimic human decision-making to solve problems in real time. In a multiagent system, each agent performs a specific subtask required to reach the goal and their efforts are coordinated through AI orchestration.'), Document(metadata={'source': 'https://www.ibm.com/think/topics/agentic-ai', 'title': 'What Is Agentic AI? | IBM', 'description': 'Agentic AI is an artificial intelligence system that can accomplish a specific goal with limited supervision. It consists of ai agents—machine learning models that mimic human decision-making to solve problems in real time.', 'language': 'en'}, page_content='Unlike traditional AI models, which operate within predefined constraints and require human intervention, agentic AI exhibits autonomy, goal-driven behavior and adaptability. The term “agentic” refers to these models’ agency, or, their capacity to act independently and purposefully.'), Document(metadata={'source': 'https://www.ibm.com/think/topics/agentic-ai', 'title': 'What Is Agentic AI? | IBM', 'description': 'Agentic AI is an artificial intelligence system that can accomplish a specific goal with limited supervision. It consists of ai agents—machine learning models that mimic human decision-making to solve problems in real time.', 'language': 'en'}, page_content='Agentic AI builds on generative AI (gen AI) techniques by using large language models (LLMs) to function in dynamic environments. While generative models focus on creating content based on learned patterns, agentic AI extends this capability by applying generative outputs toward specific goals. A generative AI model like OpenAI’s ChatGPT might produce text, images or code, but an agentic AI system can use that generated content to complete complex tasks autonomously by calling external tools. Agents can, for example, not only tell you the best time to climb Mt. Everest given your work schedule, it can also book you a flight and a hotel.'), Document(metadata={'source': 'https://www.ibm.com/think/topics/agentic-ai', 'title': 'What Is Agentic AI? | IBM', 'description': 'Agentic AI is an artificial intelligence system that can accomplish a specific goal with limited supervision. It consists of ai agents—machine learning models that mimic human decision-making to solve problems in real time.', 'language': 'en'}, page_content='Industry newsletter\\n\\n\\n\\nThe latest tech news, backed by expert insights\\n\\n\\n\\nStay up to date on the most important—and intriguing—industry trends on AI, automation, data and beyond with the Think newsletter.\\xa0See the\\xa0IBM Privacy Statement.\\n\\n\\n\\n\\nThank you! You are subscribed.\\n\\n\\n\\n\\n\\n\\n\\n\\n\\n\\n\\n\\n\\n\\n\\n\\n\\n\\n\\n\\n\\n\\n\\n\\n\\nYour subscription will be delivered in English. You will find an unsubscribe link in every newsletter. You can manage your subscriptions or unsubscribe here. Refer to our IBM Privacy Statement for more information.\\n\\n\\n\\n\\n\\n\\n\\n\\n\\n\\n\\n\\n\\n\\n\\n\\n\\n\\r\\n        What are the advantages of agentic AI?'), Document(metadata={'source': 'https://www.ibm.com/think/topics/agentic-ai', 'title': 'What Is Agentic AI? | IBM', 'description': 'Agentic AI is an artificial intelligence system that can accomplish a specific goal with limited supervision. It consists of ai agents—machine learning models that mimic human decision-making to solve problems in real time.', 'language': 'en'}, page_content='Agentic systems have many advantages over their generative predecessors, which are limited by the information contained in the datasets upon which models are trained.\\nAutonomous\\nThe most important advancement of agentic systems is that they allow for autonomy to perform tasks without constant human oversight. Agentic systems can maintain long-term goals, manage multistep problem-solving tasks and track progress over time.\\nProactive\\nAgentic systems provide the flexibility of LLMs, which can generate responses or actions based on nuanced, context-dependent understanding, with the structured, deterministic and reliable features of traditional programming. This approach allows agents to “think” and “do” in a more human-like fashion.'), Document(metadata={'source': 'https://www.ibm.com/think/topics/agentic-ai', 'title': 'What Is Agentic AI? | IBM', 'description': 'Agentic AI is an artificial intelligence system that can accomplish a specific goal with limited supervision. It consists of ai agents—machine learning models that mimic human decision-making to solve problems in real time.', 'language': 'en'}, page_content='LLMs by themselves can’t directly interact with external tools or databases or set up systems to monitor and collect data in real time, but agents can. Agents can search the web, call application programming interfaces (APIs) and query databases, then use this information to make decisions and take actions.\\nSpecialized'), Document(metadata={'source': 'https://www.ibm.com/think/topics/agentic-ai', 'title': 'What Is Agentic AI? | IBM', 'description': 'Agentic AI is an artificial intelligence system that can accomplish a specific goal with limited supervision. It consists of ai agents—machine learning models that mimic human decision-making to solve problems in real time.', 'language': 'en'}, page_content='Specialized\\nAgents can specialize in specific tasks. Some agents are simple, performing a single repetitive task reliably. Others can use perception and draw on memory to solve more complex problems. An\\xa0agentic architecture\\xa0might consist of a “conductor” model powered by an LLM that oversees tasks and decisions and supervises other, simpler agents. Such architectures are ideal for sequential workflows but are vulnerable to bottlenecks. Other architectures are more horizontal, with agents working in harmony as equals in a decentralized fashion, but this architecture can be slower than a vertical hierarchy. Different AI applications demand different architectures.\\nAdaptable'), Document(metadata={'source': 'https://www.ibm.com/think/topics/agentic-ai', 'title': 'What Is Agentic AI? | IBM', 'description': 'Agentic AI is an artificial intelligence system that can accomplish a specific goal with limited supervision. It consists of ai agents—machine learning models that mimic human decision-making to solve problems in real time.', 'language': 'en'}, page_content='Adaptable\\nAgents can learn from their experiences, take in feedback and adjust their behavior. With the right guardrails, agentic systems can improve continuously. Multiagent systems possess the scalability to eventually handle broadly scoped initiatives.\\nIntuitive'), Document(metadata={'source': 'https://www.ibm.com/think/topics/agentic-ai', 'title': 'What Is Agentic AI? | IBM', 'description': 'Agentic AI is an artificial intelligence system that can accomplish a specific goal with limited supervision. It consists of ai agents—machine learning models that mimic human decision-making to solve problems in real time.', 'language': 'en'}, page_content='Intuitive\\nBecause agentic systems are powered by LLMs, users can engage with them with natural language prompts. This means that entire software interfaces—think of the many tabs, dropdowns, charts, sliders, pop-ups and other UI elements involved in the SaaS platform of one’s choice—can be replaced by simple language or voice commands. Theoretically, any software user experience can now be reduced to “talking” with an agent, who can fetch the information one needs and take action based on that information. This productivity benefit can barely be overstated, when one considers the time it takes for workers to learn and master new interfaces and tools.'), Document(metadata={'source': 'https://www.ibm.com/think/topics/agentic-ai', 'title': 'What Is Agentic AI? | IBM', 'description': 'Agentic AI is an artificial intelligence system that can accomplish a specific goal with limited supervision. It consists of ai agents—machine learning models that mimic human decision-making to solve problems in real time.', 'language': 'en'}, page_content='AI agents\\n  \\n\\n\\n\\n\\n    \\n\\n\\n\\n\\n\\n\\n\\n\\n\\n\\n\\n\\n            \\n\\n\\n\\n  \\n    5 Types of AI Agents: Autonomous Functions & Real-World Applications\\n\\n\\n\\n\\n\\n\\n    \\n\\n\\n        \\n\\n\\nLearn how goal-driven and utility-based AI adapt to workflows and complex environments.\\n\\n\\n\\n\\n\\nBuild, deploy and monitor AI agents\\n\\n\\n\\n\\n\\n\\n\\n\\n\\n\\n\\n\\n\\n\\n\\n\\n\\n\\n\\n\\n\\n\\r\\n        How agentic AI works'), Document(metadata={'source': 'https://www.ibm.com/think/topics/agentic-ai', 'title': 'What Is Agentic AI? | IBM', 'description': 'Agentic AI is an artificial intelligence system that can accomplish a specific goal with limited supervision. It consists of ai agents—machine learning models that mimic human decision-making to solve problems in real time.', 'language': 'en'}, page_content='Agentic AI tools can take many forms and different\\xa0frameworks\\xa0are better suited to different problems, but here are the general steps that agentic systems take to perform their operations.\\nPerception\\nAgentic AI begins by collecting data from its environment through sensors, APIs, databases or user interactions. This step ensures that the system has up-to-date information to analyze and act upon.\\nReasoning\\nOnce the data is collected, the AI processes it to extract meaningful insights. Using\\xa0natural language processing\\xa0(NLP), computer vision or other AI capabilities, it interprets user queries, detects patterns and understands the broader context. This ability helps the AI determine what actions to take based on the situation.\\nGoal setting'), Document(metadata={'source': 'https://www.ibm.com/think/topics/agentic-ai', 'title': 'What Is Agentic AI? | IBM', 'description': 'Agentic AI is an artificial intelligence system that can accomplish a specific goal with limited supervision. It consists of ai agents—machine learning models that mimic human decision-making to solve problems in real time.', 'language': 'en'}, page_content='Goal setting\\nThe AI sets objectives based on predefined goals or user inputs. It then develops a strategy to achieve these goals, often by using\\xa0decision trees,\\xa0reinforcement learning\\xa0or other planning algorithms.\\nDecision-making\\nAI evaluates multiple possible actions and chooses the optimal one based on factors such as efficiency, accuracy and predicted outcomes. It might use probabilistic models, utility functions or\\xa0machine learning-based reasoning to determine the best course of action.\\nExecution\\nAfter selecting an action, the AI executes it, either by interacting with external systems (APIs, data, robots) or providing responses to users.\\nLearning and adaptation'), Document(metadata={'source': 'https://www.ibm.com/think/topics/agentic-ai', 'title': 'What Is Agentic AI? | IBM', 'description': 'Agentic AI is an artificial intelligence system that can accomplish a specific goal with limited supervision. It consists of ai agents—machine learning models that mimic human decision-making to solve problems in real time.', 'language': 'en'}, page_content='Execution\\nAfter selecting an action, the AI executes it, either by interacting with external systems (APIs, data, robots) or providing responses to users.\\nLearning and adaptation\\nAfter executing an action, the AI evaluates the outcome, gathering feedback to improve future decisions. Through reinforcement learning or\\xa0self-supervised learning, the AI refines its strategies over time, making it more effective in handling similar tasks in the future.\\nOrchestration'), Document(metadata={'source': 'https://www.ibm.com/think/topics/agentic-ai', 'title': 'What Is Agentic AI? | IBM', 'description': 'Agentic AI is an artificial intelligence system that can accomplish a specific goal with limited supervision. It consists of ai agents—machine learning models that mimic human decision-making to solve problems in real time.', 'language': 'en'}, page_content='Orchestration\\nAI orchestration is the coordination and management of systems and agents. Orchestration platforms\\xa0automate\\xa0AI workflows, track progress toward task completion, manage resource usage, monitor data flow and memory and handle failure events. With the right architecture, dozens, hundreds or even thousands of agents could theoretically work together in harmonious productivity.'), Document(metadata={'source': 'https://www.ibm.com/think/topics/agentic-ai', 'title': 'What Is Agentic AI? | IBM', 'description': 'Agentic AI is an artificial intelligence system that can accomplish a specific goal with limited supervision. It consists of ai agents—machine learning models that mimic human decision-making to solve problems in real time.', 'language': 'en'}, page_content='Examples of agentic AI'), Document(metadata={'source': 'https://www.ibm.com/think/topics/agentic-ai', 'title': 'What Is Agentic AI? | IBM', 'description': 'Agentic AI is an artificial intelligence system that can accomplish a specific goal with limited supervision. It consists of ai agents—machine learning models that mimic human decision-making to solve problems in real time.', 'language': 'en'}, page_content='Agentic AI solutions can be deployed across virtually any AI use case in any real-world ecosystem. Agents can integrate within complex workflows to perform business processes autonomously.\\nAn AI-powered trading bot can analyze live stock prices and economic indicators to perform predictive analytics and execute trades.\\nIn autonomous vehicles, real-time data sources such as GPS and sensor data can improve navigation and safety.\\nIn healthcare, agents can monitor patient data, adjust treatment recommendations based on new test results and provide real-time feedback to clinicians through chatbots.'), Document(metadata={'source': 'https://www.ibm.com/think/topics/agentic-ai', 'title': 'What Is Agentic AI? | IBM', 'description': 'Agentic AI is an artificial intelligence system that can accomplish a specific goal with limited supervision. It consists of ai agents—machine learning models that mimic human decision-making to solve problems in real time.', 'language': 'en'}, page_content='In healthcare, agents can monitor patient data, adjust treatment recommendations based on new test results and provide real-time feedback to clinicians through chatbots.\\nIn cybersecurity, agents can continuously monitor network traffic, system logs and user behavior for anomalies that might indicate vulnerabilities to malware, phishing attacks or unauthorized access attempts.\\nAI can streamline supply chain management through process automation and optimization, autonomously placing orders with suppliers or adjusting production schedules to maintain optimal inventory levels.'), Document(metadata={'source': 'https://www.ibm.com/think/topics/agentic-ai', 'title': 'What Is Agentic AI? | IBM', 'description': 'Agentic AI is an artificial intelligence system that can accomplish a specific goal with limited supervision. It consists of ai agents—machine learning models that mimic human decision-making to solve problems in real time.', 'language': 'en'}, page_content='Challenges for agentic AI systems'), Document(metadata={'source': 'https://www.ibm.com/think/topics/agentic-ai', 'title': 'What Is Agentic AI? | IBM', 'description': 'Agentic AI is an artificial intelligence system that can accomplish a specific goal with limited supervision. It consists of ai agents—machine learning models that mimic human decision-making to solve problems in real time.', 'language': 'en'}, page_content='Agentic AI systems have massive potential for the enterprise. Their autonomy is their primary benefit, but this autonomous nature can bring serious consequences if agentic systems go “off the rails.” The usual AI risks apply, but can be magnified in agentic systems.\\nMany agentic AI systems use reinforcement learning, which involves maximizing a reward function. If the reward system is poorly designed, the AI might exploit loopholes to achieve “high scores” in unintended ways.\\nConsider a few examples:\\nAn agent tasked with maximizing social media engagement that prioritizes sensational or misleading content, inadvertently spreading misinformation\\nA warehouse robot optimizing for speed that damages products to move faster.'), Document(metadata={'source': 'https://www.ibm.com/think/topics/agentic-ai', 'title': 'What Is Agentic AI? | IBM', 'description': 'Agentic AI is an artificial intelligence system that can accomplish a specific goal with limited supervision. It consists of ai agents—machine learning models that mimic human decision-making to solve problems in real time.', 'language': 'en'}, page_content='A warehouse robot optimizing for speed that damages products to move faster.\\nA financial trading AI meant to maximize profits that engages in risky or unethical trading practices, triggering market instability.\\nA content moderation AI designed to reduce harmful speech overcensors legitimate discussions.'), Document(metadata={'source': 'https://www.ibm.com/think/topics/agentic-ai', 'title': 'What Is Agentic AI? | IBM', 'description': 'Agentic AI is an artificial intelligence system that can accomplish a specific goal with limited supervision. It consists of ai agents—machine learning models that mimic human decision-making to solve problems in real time.', 'language': 'en'}, page_content='Some agentic AI systems can become self-reinforcing, escalating behaviors in an unintended direction. This issue happens when the AI optimizes too aggressively for a particular metric without safeguards. And because agentic systems are often composed of multiple autonomous agents working together, there are opportunities for failure. Traffic jams, bottlenecks, resource conflicts—all of these errors have the potential to cascade. It’s important for models to have clearly-defined goals that can be measured, with feedback loops in place so models can move ever closer to the organization’s intention over time.\\n\\n\\n\\n\\n\\n\\n\\n\\n\\n\\n\\n\\n\\n\\n                Report'), Document(metadata={'source': 'https://www.ibm.com/think/topics/agentic-ai', 'title': 'What Is Agentic AI? | IBM', 'description': 'Agentic AI is an artificial intelligence system that can accomplish a specific goal with limited supervision. It consists of ai agents—machine learning models that mimic human decision-making to solve problems in real time.', 'language': 'en'}, page_content='Report\\n            \\n\\n                Top strategic technology trends for 2025: Agentic AI\\n            \\nDownload this Gartner® research report to learn the potential opportunities and risks of agentic AI for IT leaders and how to prepare for this next wave of AI innovation.\\r\\n\\r\\n\\n\\nRead the report\\n\\n\\n\\n\\n\\n\\n\\n\\n\\n\\n\\n\\n\\n\\n\\n\\n\\n\\n\\n\\n\\n\\nBuild, run and manage AI agents with watsonx Orchestrate\\n\\n\\n\\n\\n\\n\\n\\n\\n\\n\\n\\n\\n\\n\\n\\n\\n\\n\\n\\n\\n\\n\\n\\n\\n\\n\\n\\n\\n\\n\\n\\n\\n\\n\\n\\n\\n            \\n\\n\\n\\n  \\n    Resources\\n\\n\\n\\n\\n\\n\\n    \\n\\n\\n        \\n\\n\\n\\n\\n\\n\\n\\n\\n\\n\\n\\n\\n\\n\\n                IBM Developer\\n            \\n\\n                Agents: watsonx Developer Hub\\n            \\nGet started with building and deploying agents by using watsonx.ai.\\n\\nExplore the Developer Hub\\n\\n\\n\\n\\n\\n\\n\\n\\n                Report'), Document(metadata={'source': 'https://www.ibm.com/think/topics/agentic-ai', 'title': 'What Is Agentic AI? | IBM', 'description': 'Agentic AI is an artificial intelligence system that can accomplish a specific goal with limited supervision. It consists of ai agents—machine learning models that mimic human decision-making to solve problems in real time.', 'language': 'en'}, page_content='Agents: watsonx Developer Hub\\n            \\nGet started with building and deploying agents by using watsonx.ai.\\n\\nExplore the Developer Hub\\n\\n\\n\\n\\n\\n\\n\\n\\n                Report\\n            \\n\\n                Omdia Report on empowered intelligence: The impact of AI agents\\n            \\nDiscover how you can unlock the full potential of gen AI with AI agents.\\r\\n\\n\\nRead the report\\n\\n\\n\\n\\n\\n\\n\\n\\n                Guide\\n            \\n\\n                2025 AI Agents buyers guide\\n            \\nDive into this comprehensive guide breaks down key use cases, core capabilities, and step-by-step recommendations to help you choose the right solutions for your business.\\n\\nRead the guide\\n\\n\\n\\n\\n\\n\\n\\n\\n                IBM Developer'), Document(metadata={'source': 'https://www.ibm.com/think/topics/agentic-ai', 'title': 'What Is Agentic AI? | IBM', 'description': 'Agentic AI is an artificial intelligence system that can accomplish a specific goal with limited supervision. It consists of ai agents—machine learning models that mimic human decision-making to solve problems in real time.', 'language': 'en'}, page_content='Read the guide\\n\\n\\n\\n\\n\\n\\n\\n\\n                IBM Developer\\n            \\n\\n                InstructLab Tutorials\\n            \\nShape generative AI by making contributions to LLMs in an open and accessible way.\\n\\nGet started\\n\\n\\n\\n\\n\\n\\n\\n\\n                IBM TechXchange\\n            \\n\\n                IBM AI Community\\n            \\nJoin the community for AI architects and builders to learn, share ideas and connect with others.\\n\\nFind your community\\n\\n\\n\\n\\n\\n\\n\\n\\n                Video\\n            \\n\\n                Reimagine business productivity with AI agents and assistants\\n            \\nExplore the difference between AI agents and assistants and learn how they can be a gamechanger for enterprise productivity.\\n\\nWatch now\\n\\n\\n\\n\\n\\n\\n\\n\\n                Podcast'), Document(metadata={'source': 'https://www.ibm.com/think/topics/agentic-ai', 'title': 'What Is Agentic AI? | IBM', 'description': 'Agentic AI is an artificial intelligence system that can accomplish a specific goal with limited supervision. It consists of ai agents—machine learning models that mimic human decision-making to solve problems in real time.', 'language': 'en'}, page_content='Watch now\\n\\n\\n\\n\\n\\n\\n\\n\\n                Podcast\\n            \\n\\n                2024 Rewind: Breakthroughs in AI models, agents, hardware and products\\n            \\nWill 2025 be the year of AI agents? On this episode of Mixture of Experts, we review AI models, agents, hardware and product releases with some of the top industry experts.\\r\\n\\n\\nListen now\\n\\n\\n\\n\\n\\n\\n\\n\\n                Podcast\\n            \\n\\n                How AI agents will reinvent productivity\\n            \\nLearn ways to use AI to be more creative and efficient. Start adapting to a future that involves working closely with AI agents.\\n\\nListen now\\n\\n\\n\\n\\n\\n\\n\\n\\n\\n\\n\\n\\n\\n\\n\\n\\n\\n\\n\\n\\n\\n\\n\\n\\n        \\n        \\n\\n     \\n    Related solutions\\n\\n\\n\\n\\n    \\n\\n\\n    \\n\\n\\n\\n\\n\\n\\n\\n\\n\\n\\n\\n\\n\\n\\n\\n\\n\\n\\n\\n\\n\\n\\n\\n\\n\\n\\n\\n\\n\\n\\n\\n\\n\\n\\n\\n\\n\\n\\n\\n\\n\\n\\n\\n\\n\\n\\n\\n\\n\\n\\n\\n\\n\\n\\n\\n\\n\\n\\n        \\n\\n\\n\\n  \\n    IBM AI agent development'), Document(metadata={'source': 'https://www.ibm.com/think/topics/agentic-ai', 'title': 'What Is Agentic AI? | IBM', 'description': 'Agentic AI is an artificial intelligence system that can accomplish a specific goal with limited supervision. It consists of ai agents—machine learning models that mimic human decision-making to solve problems in real time.', 'language': 'en'}, page_content=\"Related solutions\\n\\n\\n\\n\\n    \\n\\n\\n    \\n\\n\\n\\n\\n\\n\\n\\n\\n\\n\\n\\n\\n\\n\\n\\n\\n\\n\\n\\n\\n\\n\\n\\n\\n\\n\\n\\n\\n\\n\\n\\n\\n\\n\\n\\n\\n\\n\\n\\n\\n\\n\\n\\n\\n\\n\\n\\n\\n\\n\\n\\n\\n\\n\\n\\n\\n\\n\\n        \\n\\n\\n\\n  \\n    IBM AI agent development\\xa0\\n\\n\\n\\n\\n\\n\\n    \\n\\n\\n    \\n\\n\\n\\nEnable developers to build, deploy and monitor AI agents with the IBM watsonx.ai studio.\\n\\n\\n\\n\\nExplore watsonx.ai\\n                \\n            \\n\\n\\n\\n\\n\\n\\n\\n\\n\\n\\n\\n\\n\\n\\n\\n\\n\\n\\n\\n\\n\\n\\n\\n\\n\\n\\n\\n\\n\\n\\n\\n\\n\\n\\n\\n\\n\\n\\n\\n\\n\\n\\n\\n\\n\\n\\n\\n\\n\\n\\n\\n\\n\\n\\n\\n\\n\\n\\n\\n\\n\\n        \\n\\n\\n\\n  \\n    IBM AI agents and assistants\\n\\n\\n\\n\\n\\n\\n    \\n\\n\\n    \\n\\n\\n\\nCreate breakthrough productivity with one of the industry's most comprehensive set of capabilities for helping businesses build, customize and manage AI agents and assistants.\\xa0\\n\\n\\n\\n\\nExplore AI agents\"), Document(metadata={'source': 'https://www.ibm.com/think/topics/agentic-ai', 'title': 'What Is Agentic AI? | IBM', 'description': 'Agentic AI is an artificial intelligence system that can accomplish a specific goal with limited supervision. It consists of ai agents—machine learning models that mimic human decision-making to solve problems in real time.', 'language': 'en'}, page_content=\"Explore AI agents\\n                \\n            \\n\\n\\n\\n\\n\\n\\n\\n\\n\\n\\n\\n\\n\\n\\n\\n\\n\\n\\n\\n\\n\\n\\n\\n\\n\\n\\n\\n\\n\\n\\n\\n\\n\\n\\n\\n\\n\\n\\n\\n\\n\\n\\n\\n\\n\\n\\n\\n\\n\\n\\n\\n\\n\\n\\n\\n\\n\\n\\n\\n\\n\\n\\n        \\n\\n\\n\\n  \\n    IBM Granite\\n\\n\\n\\n\\n\\n\\n    \\n\\n\\n    \\n\\n\\n\\nAchieve over 90% cost savings with Granite's smaller and open models, designed for developer efficiency.\\xa0These enterprise-ready models deliver exceptional performance against safety benchmarks and across a wide range of enterprise tasks from cybersecurity to RAG.\\n\\n\\n\\n\\nExplore Granite\\n                \\n            \\n\\n\\n\\n\\n\\n\\n\\n\\n\\n\\n\\n\\n\\n\\n\\n\\n\\n\\n\\n\\n\\nTake the next step\\n\\n\\n\\n\\nAutomate your complex workflows and create breakthrough productivity with one of the industry's most comprehensive set of capabilities for helping businesses build, customize and manage AI agents and assistants.\\xa0\\n\\n\\n\\n\\n\\n\\nExplore watsonx.ai agent development\"), Document(metadata={'source': 'https://www.ibm.com/think/topics/agentic-ai', 'title': 'What Is Agentic AI? | IBM', 'description': 'Agentic AI is an artificial intelligence system that can accomplish a specific goal with limited supervision. It consists of ai agents—machine learning models that mimic human decision-making to solve problems in real time.', 'language': 'en'}, page_content='Explore watsonx.ai agent development\\n\\n\\n\\n\\nDiscover watsonx Orchestrate')]\n"
          ]
        },
        {
          "output_type": "execute_result",
          "data": {
            "text/plain": [
              "33"
            ]
          },
          "metadata": {},
          "execution_count": 11
        }
      ]
    },
    {
      "cell_type": "code",
      "source": [
        "pip install langchain-huggingface"
      ],
      "metadata": {
        "colab": {
          "base_uri": "https://localhost:8080/"
        },
        "collapsed": true,
        "id": "ElNP_ZsEb0CS",
        "outputId": "de1a00ac-2617-4ffb-dde9-0404f5486d47"
      },
      "execution_count": null,
      "outputs": [
        {
          "output_type": "stream",
          "name": "stdout",
          "text": [
            "Collecting langchain-huggingface\n",
            "  Downloading langchain_huggingface-0.3.1-py3-none-any.whl.metadata (996 bytes)\n",
            "Requirement already satisfied: langchain-core<1.0.0,>=0.3.70 in /usr/local/lib/python3.11/dist-packages (from langchain-huggingface) (0.3.72)\n",
            "Requirement already satisfied: tokenizers>=0.19.1 in /usr/local/lib/python3.11/dist-packages (from langchain-huggingface) (0.21.2)\n",
            "Requirement already satisfied: huggingface-hub>=0.33.4 in /usr/local/lib/python3.11/dist-packages (from langchain-huggingface) (0.34.1)\n",
            "Requirement already satisfied: filelock in /usr/local/lib/python3.11/dist-packages (from huggingface-hub>=0.33.4->langchain-huggingface) (3.18.0)\n",
            "Requirement already satisfied: fsspec>=2023.5.0 in /usr/local/lib/python3.11/dist-packages (from huggingface-hub>=0.33.4->langchain-huggingface) (2025.3.0)\n",
            "Requirement already satisfied: packaging>=20.9 in /usr/local/lib/python3.11/dist-packages (from huggingface-hub>=0.33.4->langchain-huggingface) (25.0)\n",
            "Requirement already satisfied: pyyaml>=5.1 in /usr/local/lib/python3.11/dist-packages (from huggingface-hub>=0.33.4->langchain-huggingface) (6.0.2)\n",
            "Requirement already satisfied: requests in /usr/local/lib/python3.11/dist-packages (from huggingface-hub>=0.33.4->langchain-huggingface) (2.32.3)\n",
            "Requirement already satisfied: tqdm>=4.42.1 in /usr/local/lib/python3.11/dist-packages (from huggingface-hub>=0.33.4->langchain-huggingface) (4.67.1)\n",
            "Requirement already satisfied: typing-extensions>=3.7.4.3 in /usr/local/lib/python3.11/dist-packages (from huggingface-hub>=0.33.4->langchain-huggingface) (4.14.1)\n",
            "Requirement already satisfied: hf-xet<2.0.0,>=1.1.3 in /usr/local/lib/python3.11/dist-packages (from huggingface-hub>=0.33.4->langchain-huggingface) (1.1.5)\n",
            "Requirement already satisfied: langsmith>=0.3.45 in /usr/local/lib/python3.11/dist-packages (from langchain-core<1.0.0,>=0.3.70->langchain-huggingface) (0.4.8)\n",
            "Requirement already satisfied: tenacity!=8.4.0,<10.0.0,>=8.1.0 in /usr/local/lib/python3.11/dist-packages (from langchain-core<1.0.0,>=0.3.70->langchain-huggingface) (8.5.0)\n",
            "Requirement already satisfied: jsonpatch<2.0,>=1.33 in /usr/local/lib/python3.11/dist-packages (from langchain-core<1.0.0,>=0.3.70->langchain-huggingface) (1.33)\n",
            "Requirement already satisfied: pydantic>=2.7.4 in /usr/local/lib/python3.11/dist-packages (from langchain-core<1.0.0,>=0.3.70->langchain-huggingface) (2.11.7)\n",
            "Requirement already satisfied: jsonpointer>=1.9 in /usr/local/lib/python3.11/dist-packages (from jsonpatch<2.0,>=1.33->langchain-core<1.0.0,>=0.3.70->langchain-huggingface) (3.0.0)\n",
            "Requirement already satisfied: httpx<1,>=0.23.0 in /usr/local/lib/python3.11/dist-packages (from langsmith>=0.3.45->langchain-core<1.0.0,>=0.3.70->langchain-huggingface) (0.28.1)\n",
            "Requirement already satisfied: orjson<4.0.0,>=3.9.14 in /usr/local/lib/python3.11/dist-packages (from langsmith>=0.3.45->langchain-core<1.0.0,>=0.3.70->langchain-huggingface) (3.11.1)\n",
            "Requirement already satisfied: requests-toolbelt<2.0.0,>=1.0.0 in /usr/local/lib/python3.11/dist-packages (from langsmith>=0.3.45->langchain-core<1.0.0,>=0.3.70->langchain-huggingface) (1.0.0)\n",
            "Requirement already satisfied: zstandard<0.24.0,>=0.23.0 in /usr/local/lib/python3.11/dist-packages (from langsmith>=0.3.45->langchain-core<1.0.0,>=0.3.70->langchain-huggingface) (0.23.0)\n",
            "Requirement already satisfied: annotated-types>=0.6.0 in /usr/local/lib/python3.11/dist-packages (from pydantic>=2.7.4->langchain-core<1.0.0,>=0.3.70->langchain-huggingface) (0.7.0)\n",
            "Requirement already satisfied: pydantic-core==2.33.2 in /usr/local/lib/python3.11/dist-packages (from pydantic>=2.7.4->langchain-core<1.0.0,>=0.3.70->langchain-huggingface) (2.33.2)\n",
            "Requirement already satisfied: typing-inspection>=0.4.0 in /usr/local/lib/python3.11/dist-packages (from pydantic>=2.7.4->langchain-core<1.0.0,>=0.3.70->langchain-huggingface) (0.4.1)\n",
            "Requirement already satisfied: charset-normalizer<4,>=2 in /usr/local/lib/python3.11/dist-packages (from requests->huggingface-hub>=0.33.4->langchain-huggingface) (3.4.2)\n",
            "Requirement already satisfied: idna<4,>=2.5 in /usr/local/lib/python3.11/dist-packages (from requests->huggingface-hub>=0.33.4->langchain-huggingface) (3.10)\n",
            "Requirement already satisfied: urllib3<3,>=1.21.1 in /usr/local/lib/python3.11/dist-packages (from requests->huggingface-hub>=0.33.4->langchain-huggingface) (2.5.0)\n",
            "Requirement already satisfied: certifi>=2017.4.17 in /usr/local/lib/python3.11/dist-packages (from requests->huggingface-hub>=0.33.4->langchain-huggingface) (2025.7.14)\n",
            "Requirement already satisfied: anyio in /usr/local/lib/python3.11/dist-packages (from httpx<1,>=0.23.0->langsmith>=0.3.45->langchain-core<1.0.0,>=0.3.70->langchain-huggingface) (4.9.0)\n",
            "Requirement already satisfied: httpcore==1.* in /usr/local/lib/python3.11/dist-packages (from httpx<1,>=0.23.0->langsmith>=0.3.45->langchain-core<1.0.0,>=0.3.70->langchain-huggingface) (1.0.9)\n",
            "Requirement already satisfied: h11>=0.16 in /usr/local/lib/python3.11/dist-packages (from httpcore==1.*->httpx<1,>=0.23.0->langsmith>=0.3.45->langchain-core<1.0.0,>=0.3.70->langchain-huggingface) (0.16.0)\n",
            "Requirement already satisfied: sniffio>=1.1 in /usr/local/lib/python3.11/dist-packages (from anyio->httpx<1,>=0.23.0->langsmith>=0.3.45->langchain-core<1.0.0,>=0.3.70->langchain-huggingface) (1.3.1)\n",
            "Downloading langchain_huggingface-0.3.1-py3-none-any.whl (27 kB)\n"
          ]
        }
      ]
    },
    {
      "cell_type": "code",
      "source": [
        "#Downloading all mini L6 v2 model from huggingface\n",
        "from langchain.embeddings import HuggingFaceEmbeddings\n",
        "embeddings = HuggingFaceEmbeddings(model_name=\"sentence-transformers/all-MiniLM-L6-v2\")\n",
        "#"
      ],
      "metadata": {
        "collapsed": true,
        "id": "3WOJLDghcBLN"
      },
      "execution_count": null,
      "outputs": []
    },
    {
      "cell_type": "code",
      "source": [
        "# Creating Faiss db and dumping vector\n",
        "from langchain.vectorstores import FAISS\n",
        "db = FAISS.from_documents(chunks, embeddings)\n",
        "retriever = db.as_retriever()\n",
        "db.save_local(\"faiss_index\")"
      ],
      "metadata": {
        "id": "9vjALn8jdKkU"
      },
      "execution_count": null,
      "outputs": []
    },
    {
      "cell_type": "markdown",
      "source": [
        "##Creating 1st tool - Vector db tool"
      ],
      "metadata": {
        "id": "Pj6w1hQ-uvn8"
      }
    },
    {
      "cell_type": "code",
      "source": [
        "#Finding relavant chunks using tool\n",
        "#retriever.invoke(\"AI Agent\")\n",
        "\n",
        "from langchain.tools import tool\n",
        "\n",
        "@tool\n",
        "def get_context_from_vectordb(user_query: str):\n",
        "    \"\"\"Use this tool to get context for AI agent or Agentic AI\"\"\"\n",
        "    relevant_chunks = retriever.invoke(user_query)\n",
        "    return relevant_chunks\n"
      ],
      "metadata": {
        "id": "-lBbI-dphDpN"
      },
      "execution_count": null,
      "outputs": []
    },
    {
      "cell_type": "code",
      "source": [
        "pip install -qU langchain-tavily"
      ],
      "metadata": {
        "id": "hjvxORpjjeyP"
      },
      "execution_count": null,
      "outputs": []
    },
    {
      "cell_type": "markdown",
      "source": [
        "# Adding 2nd tool web search ability"
      ],
      "metadata": {
        "id": "tZpvcXijup0w"
      }
    },
    {
      "cell_type": "code",
      "source": [
        "from google.colab import userdata\n",
        "import os\n",
        "os.environ[\"TAVILY_API_KEY\"] = userdata.get('TavilyAPI')\n",
        "\n",
        "from langchain_tavily import TavilySearch\n",
        "web_search_tool = TavilySearch()"
      ],
      "metadata": {
        "id": "8rJWECyHjtDy"
      },
      "execution_count": null,
      "outputs": []
    },
    {
      "cell_type": "markdown",
      "source": [
        "##Creating Custom tool"
      ],
      "metadata": {
        "id": "f590Agp-umA4"
      }
    },
    {
      "cell_type": "code",
      "source": [
        "##Creating Custom tool\n",
        "from langchain.tools import tool, Tool\n",
        "import random\n",
        "\n",
        "@tool\n",
        "def get_random_number (input =\"\"):\n",
        "  \"\"\"Use this method to generate random number\"\"\"\n",
        "  return random.randint(100000,9999999)\n",
        "\n",
        "  random_number_generation_tool = tool(\n",
        "    name=\"get_random_number\",\n",
        "    func=get_random_number,\n",
        "    description=\"Use this method to generate random number\"\n",
        ")\n"
      ],
      "metadata": {
        "id": "OZOPy9_hpbFo"
      },
      "execution_count": null,
      "outputs": []
    },
    {
      "cell_type": "markdown",
      "source": [],
      "metadata": {
        "id": "2aUVbipxuhA4"
      }
    },
    {
      "cell_type": "markdown",
      "source": [
        "## Call Gemini 2.5-flash model using langchain"
      ],
      "metadata": {
        "id": "2xGIovf2uinW"
      }
    },
    {
      "cell_type": "code",
      "source": [
        "pip install langchain_google_genai"
      ],
      "metadata": {
        "collapsed": true,
        "id": "N4WbIyTVzCBR"
      },
      "execution_count": null,
      "outputs": []
    },
    {
      "cell_type": "code",
      "source": [
        "from langchain_google_genai import ChatGoogleGenerativeAI\n",
        "from google.colab import userdata\n",
        "\n",
        "llm = ChatGoogleGenerativeAI(model=\"gemini-2.5-flash\", temperature=0, api_key=userdata.get('LangGoogleAPI'))\n"
      ],
      "metadata": {
        "id": "KJyseswax1yg"
      },
      "execution_count": null,
      "outputs": []
    },
    {
      "cell_type": "code",
      "source": [
        "from langchain.agents import initialize_agent, AgentType\n",
        "agent = initialize_agent(\n",
        "      llm=llm,\n",
        "      tools=[get_context_from_vectordb, web_search_tool,get_random_number],\n",
        "      agent=AgentType.STRUCTURED_CHAT_ZERO_SHOT_REACT_DESCRIPTION,\n",
        "      verbose=True,\n",
        "      max_iterations=3,\n",
        "      early_stopping_method=\"generate\",\n",
        "      handle_parsing_errors=True\n",
        "  )\n",
        ""
      ],
      "metadata": {
        "id": "qEkm2xFiuUy4"
      },
      "execution_count": null,
      "outputs": []
    },
    {
      "cell_type": "code",
      "source": [
        "output = agent.invoke(\"What is AI agent\")"
      ],
      "metadata": {
        "id": "-UieOaLH0cS1"
      },
      "execution_count": null,
      "outputs": []
    }
  ]
}
